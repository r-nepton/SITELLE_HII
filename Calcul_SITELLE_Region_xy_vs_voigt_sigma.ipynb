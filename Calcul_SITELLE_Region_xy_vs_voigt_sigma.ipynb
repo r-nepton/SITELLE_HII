{
 "cells": [
  {
   "cell_type": "code",
   "execution_count": 1,
   "metadata": {
    "collapsed": false
   },
   "outputs": [],
   "source": [
    "# Import Libraries\n",
    "import matplotlib \n",
    "matplotlib.use('TkAgg')\n",
    "from matplotlib import rc\n",
    "import matplotlib.pyplot as plt\n",
    "from astropy.io import fits\n",
    "import numpy as np\n",
    "from matplotlib.lines import Line2D\n",
    "import pyregion"
   ]
  },
  {
   "cell_type": "code",
   "execution_count": 2,
   "metadata": {
    "collapsed": false
   },
   "outputs": [],
   "source": [
    "# Read Centroid position of the Regions in the SN3 filter \n",
    "regxy = np.loadtxt('Region_SN3_xy.reg')\n",
    "regx = regxy[0:,0]-1\n",
    "regy = regxy[0:,1]-1"
   ]
  },
  {
   "cell_type": "code",
   "execution_count": 3,
   "metadata": {
    "collapsed": false
   },
   "outputs": [
    {
     "name": "stdout",
     "output_type": "stream",
     "text": [
      "Filename: NGC628_regions_voigt_sigma_map.fits\n",
      "No.    Name         Type      Cards   Dimensions   Format\n",
      "0    PRIMARY     PrimaryHDU       6   (2048, 2064)   float64   \n",
      "Filename: NGC628_HIIPhot3_All_GROW.fits\n",
      "No.    Name         Type      Cards   Dimensions   Format\n",
      "0    PRIMARY     PrimaryHDU      71   (2048, 2064)   float32   \n"
     ]
    }
   ],
   "source": [
    "#Read the voigt sigma of the regions and the IDs position as previously defined by the identification procedure\n",
    "\n",
    "sigma= fits.open('NGC628_regions_voigt_sigma_map.fits')\n",
    "sigma.info()\n",
    "sig = sigma[0].data\n",
    "sigma.close()\n",
    "\n",
    "gr= fits.open('NGC628_HIIPhot3_All_GROW.fits')\n",
    "gr.info()\n",
    "grow = gr[0].data\n",
    "gr.close()"
   ]
  },
  {
   "cell_type": "code",
   "execution_count": 23,
   "metadata": {
    "collapsed": true
   },
   "outputs": [],
   "source": [
    "#Write the sigma values in a .txt file with respect to the ID's order\n",
    "\n",
    "file = open('sigma.txt', 'w')\n",
    "\n",
    "for i in range(1,4286):\n",
    "    \n",
    "    file.write('%f' % float(np.mean(sig[(grow == i)]))+'\\n') \n",
    "    \n",
    "file.close()"
   ]
  },
  {
   "cell_type": "code",
   "execution_count": 24,
   "metadata": {
    "collapsed": false
   },
   "outputs": [
    {
     "name": "stderr",
     "output_type": "stream",
     "text": [
      "/anaconda/lib/python2.7/site-packages/ipykernel/__main__.py:6: VisibleDeprecationWarning: using a non-integer number instead of an integer will result in an error in the future\n"
     ]
    }
   ],
   "source": [
    "#Read the corresponding ID numbers of the xy positions in the SN3 filter \n",
    "ids = np.zeros(4285)\n",
    "\n",
    "for i in range(0,4285):\n",
    "    \n",
    "    ids[i] = grow[np.round(regy[i]),np.round(regx[i])]\n",
    "    "
   ]
  },
  {
   "cell_type": "code",
   "execution_count": 26,
   "metadata": {
    "collapsed": false
   },
   "outputs": [],
   "source": [
    "#Write the xy positions in a .txt file with respect to the ID's order\n",
    "\n",
    "file = open('Region_SN3_xy_order.txt', 'w')\n",
    "\n",
    "for i in range(1,4286):\n",
    "    \n",
    "    file.write('%f' % float(regx[(ids == i)]+1) +' '+ '%f' % float(regy[(ids == i)]+1) +'\\n') \n",
    "    \n",
    "file.close()"
   ]
  },
  {
   "cell_type": "code",
   "execution_count": 27,
   "metadata": {
    "collapsed": false
   },
   "outputs": [],
   "source": [
    "#Write the xy positions in a .txt file with respect to the ID's order\n",
    "\n",
    "file = open('Region_SN3_xy_order_ds9.txt', 'w')\n",
    "\n",
    "for i in range(1,4286):\n",
    "    \n",
    "    file.write('circle(' + '%f' % float(regx[(ids == i)]+1) +','+ '%f' % float(regy[(ids == i)]+1)+ ',' + '%f' % float(np.mean(sig[(grow == i)])/14.1443) + ')' +'\\n') \n",
    "    \n",
    "file.close()"
   ]
  },
  {
   "cell_type": "code",
   "execution_count": 28,
   "metadata": {
    "collapsed": false
   },
   "outputs": [],
   "source": [
    "r_SN3 = pyregion.open('Region_SN3_xy_order_ds9.reg')\n",
    "r_SN2 = pyregion.open('Region_SN2_xy_order_ds9.reg')\n",
    "r_SN1 = pyregion.open('Region_SN1_xy_order_ds9.reg')"
   ]
  },
  {
   "cell_type": "code",
   "execution_count": 29,
   "metadata": {
    "collapsed": false
   },
   "outputs": [
    {
     "name": "stdout",
     "output_type": "stream",
     "text": [
      "4.2271957\n"
     ]
    }
   ],
   "source": [
    "print r_SN2[0].coord_list[2]\n"
   ]
  },
  {
   "cell_type": "code",
   "execution_count": 30,
   "metadata": {
    "collapsed": false
   },
   "outputs": [],
   "source": [
    "#Write the xy positions in a .txt file with respect to the ID's order\n",
    "\n",
    "file = open('Region_SN2_xy_order_ds9_corr.txt', 'w')\n",
    "\n",
    "for i in range(0,4285):\n",
    "    \n",
    "    file.write('circle(' + '%f' % float(r_SN2[i].coord_list[0]) +','+ '%f' % float(r_SN2[i].coord_list[1])+ ',' + '%f' % float(r_SN3[i].coord_list[2]) + ')' +'\\n') \n",
    "    \n",
    "file.close()"
   ]
  },
  {
   "cell_type": "code",
   "execution_count": 31,
   "metadata": {
    "collapsed": true
   },
   "outputs": [],
   "source": [
    "#Write the xy positions in a .txt file with respect to the ID's order\n",
    "\n",
    "file = open('Region_SN1_xy_order_ds9_corr.txt', 'w')\n",
    "\n",
    "for i in range(0,4285):\n",
    "    \n",
    "    file.write('circle(' + '%f' % float(r_SN1[i].coord_list[0]) +','+ '%f' % float(r_SN1[i].coord_list[1])+ ',' + '%f' % float(r_SN3[i].coord_list[2]) + ')' +'\\n') \n",
    "    \n",
    "file.close()"
   ]
  },
  {
   "cell_type": "code",
   "execution_count": null,
   "metadata": {
    "collapsed": true
   },
   "outputs": [],
   "source": []
  }
 ],
 "metadata": {
  "kernelspec": {
   "display_name": "Python 2",
   "language": "python",
   "name": "python2"
  },
  "language_info": {
   "codemirror_mode": {
    "name": "ipython",
    "version": 2
   },
   "file_extension": ".py",
   "mimetype": "text/x-python",
   "name": "python",
   "nbconvert_exporter": "python",
   "pygments_lexer": "ipython2",
   "version": "2.7.10"
  }
 },
 "nbformat": 4,
 "nbformat_minor": 0
}
