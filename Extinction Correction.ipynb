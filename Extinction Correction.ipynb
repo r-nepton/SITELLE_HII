{
 "cells": [
  {
   "cell_type": "code",
   "execution_count": 7,
   "metadata": {
    "collapsed": false
   },
   "outputs": [],
   "source": [
    "# Import Libraries\n",
    "import matplotlib \n",
    "matplotlib.use('TkAgg')\n",
    "from matplotlib import rc\n",
    "import matplotlib.pyplot as plt\n",
    "from astropy.io import fits\n",
    "from specutils import extinction\n",
    "import extinction\n",
    "import numpy as np\n",
    "from matplotlib.lines import Line2D\n",
    "import pyregion"
   ]
  },
  {
   "cell_type": "code",
   "execution_count": 14,
   "metadata": {
    "collapsed": false
   },
   "outputs": [
    {
     "ename": "ValueError",
     "evalue": "unrecognized unit",
     "output_type": "error",
     "traceback": [
      "\u001b[0;31m---------------------------------------------------------------------------\u001b[0m",
      "\u001b[0;31mValueError\u001b[0m                                Traceback (most recent call last)",
      "\u001b[0;32m<ipython-input-14-93414578c508>\u001b[0m in \u001b[0;36m<module>\u001b[0;34m()\u001b[0m\n\u001b[1;32m     15\u001b[0m \u001b[0;34m\u001b[0m\u001b[0m\n\u001b[1;32m     16\u001b[0m \u001b[0;31m# \"deredden\" flux by A_V to get the flux_corr\u001b[0m\u001b[0;34m\u001b[0m\u001b[0;34m\u001b[0m\u001b[0m\n\u001b[0;32m---> 17\u001b[0;31m \u001b[0mflux_corr\u001b[0m \u001b[0;34m=\u001b[0m \u001b[0mapply\u001b[0m\u001b[0;34m(\u001b[0m\u001b[0mccm89\u001b[0m\u001b[0;34m(\u001b[0m\u001b[0mwave\u001b[0m\u001b[0;34m,\u001b[0m \u001b[0;34m-\u001b[0m\u001b[0mAv\u001b[0m\u001b[0;34m,\u001b[0m \u001b[0;36m3.1\u001b[0m\u001b[0;34m,\u001b[0m \u001b[0mflux\u001b[0m\u001b[0;34m)\u001b[0m\u001b[0;34m)\u001b[0m\u001b[0;34m\u001b[0m\u001b[0m\n\u001b[0m\u001b[1;32m     18\u001b[0m \u001b[0;32mprint\u001b[0m \u001b[0mflux_corr\u001b[0m\u001b[0;34m\u001b[0m\u001b[0m\n",
      "\u001b[0;32mextinction.pyx\u001b[0m in \u001b[0;36mextinction.ccm89 (extinction.c:3393)\u001b[0;34m()\u001b[0m\n",
      "\u001b[0;31mValueError\u001b[0m: unrecognized unit"
     ]
    }
   ],
   "source": [
    "import numpy as np\n",
    "import extinction\n",
    "from extinction import ccm89\n",
    "\n",
    "aha = fits.getdata('NGC628_SN3.regions.Ha6563_amplitude.fits')\n",
    "fha = fits.getdata('NGC628_SN3.regions.Ha6563_fwhm.fits')\n",
    "\n",
    "flux_ha = 1#1.2067*10*aha*fha\n",
    "\n",
    "flux = flux_ha\n",
    "\n",
    "wave = np.array([6563.])  # wavelength in Angstroms of the line\n",
    "\n",
    "Av = np.float(3.1)#EB_V * 3.1 # calculate the Av using the EB_V\n",
    "\n",
    "# \"deredden\" flux by A_V to get the flux_corr\n",
    "flux_corr = apply(ccm89(wave, -Av, 3.1, flux))\n",
    "print flux_corr"
   ]
  },
  {
   "cell_type": "code",
   "execution_count": 13,
   "metadata": {
    "collapsed": false
   },
   "outputs": [],
   "source": [
    "apply?"
   ]
  },
  {
   "cell_type": "code",
   "execution_count": null,
   "metadata": {
    "collapsed": true
   },
   "outputs": [],
   "source": []
  }
 ],
 "metadata": {
  "kernelspec": {
   "display_name": "Python 2",
   "language": "python",
   "name": "python2"
  },
  "language_info": {
   "codemirror_mode": {
    "name": "ipython",
    "version": 2
   },
   "file_extension": ".py",
   "mimetype": "text/x-python",
   "name": "python",
   "nbconvert_exporter": "python",
   "pygments_lexer": "ipython2",
   "version": "2.7.10"
  }
 },
 "nbformat": 4,
 "nbformat_minor": 0
}
